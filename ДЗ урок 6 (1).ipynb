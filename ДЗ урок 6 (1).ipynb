{
 "cells": [
  {
   "cell_type": "code",
   "execution_count": 1,
   "metadata": {},
   "outputs": [],
   "source": [
    "import numpy as np\n",
    "import scipy\n",
    "import scipy.linalg  \n",
    "import matplotlib.pyplot as plt\n",
    "%matplotlib inline"
   ]
  },
  {
   "cell_type": "markdown",
   "metadata": {},
   "source": [
    "1. Решите линейную систему уравнений\n",
    "## $\\left(\n",
    "\\begin{array}{cccc}\n",
    "1 & 2 & 3\\\\\n",
    "4 & 0 & 6\\\\\n",
    "7 & 8 & 9\\end{array}\n",
    "\\right)\\cdot \\left(\n",
    "\\begin{array}{cccc}\n",
    "X\\end{array}\n",
    "\\right) = \\left(\\begin{array}{cccc}\n",
    "12\\\\2\\\\1\\end{array}\\right)\n",
    "$"
   ]
  },
  {
   "cell_type": "code",
   "execution_count": 2,
   "metadata": {},
   "outputs": [
    {
     "name": "stdout",
     "output_type": "stream",
     "text": [
      "[[1 2 3]\n",
      " [4 0 6]\n",
      " [7 8 9]]\n",
      "[12  2  1]\n"
     ]
    },
    {
     "data": {
      "text/plain": [
       "array([-9.2       ,  0.9       ,  6.46666667])"
      ]
     },
     "execution_count": 2,
     "metadata": {},
     "output_type": "execute_result"
    }
   ],
   "source": [
    "A = np.array([[1, 2, 3], [4, 0, 6], [7, 8, 9]])\n",
    "print(A)\n",
    "B = np.array([12, 2, 1])\n",
    "print(B)\n",
    "np.linalg.solve(A, B)"
   ]
  },
  {
   "cell_type": "markdown",
   "metadata": {},
   "source": [
    "2. Найдите псевдорешение:\n",
    "## $x + 2y - z = 1$\n",
    "## $3x - 4y = 7$\n",
    "## $8x - 5y + 2z = 12$\n",
    "## $2x - 5z = 7$\n",
    "## $11x + 4y - 7z = 15$"
   ]
  },
  {
   "cell_type": "code",
   "execution_count": 3,
   "metadata": {},
   "outputs": [
    {
     "data": {
      "text/plain": [
       "(array([ 1.13919353, -0.90498444, -0.9009803 ]),\n",
       " array([0.71523211]),\n",
       " 3,\n",
       " array([15.2817306 ,  9.59852942,  3.65197794]))"
      ]
     },
     "execution_count": 3,
     "metadata": {},
     "output_type": "execute_result"
    }
   ],
   "source": [
    "A = np.array([[1, 2, -1], [3, -4, 0], [8, -5, 2], [2, 0, -5], [11, 4, -7]])\n",
    "B = np.array([1, 7, 12, 7, 15])\n",
    "np.linalg.lstsq(A, B, rcond = None)"
   ]
  },
  {
   "cell_type": "code",
   "execution_count": 4,
   "metadata": {},
   "outputs": [
    {
     "name": "stdout",
     "output_type": "stream",
     "text": [
      "[-0.76979505  0.03751835 -0.16349016 -0.21671144  0.21805317]\n",
      "0.8457139653464247\n"
     ]
    }
   ],
   "source": [
    "X = np.dot(A, [ 1.13919353, -0.90498444, -0.9009803 ]) - B\n",
    "print(X)\n",
    "print(np.linalg.norm(X))"
   ]
  },
  {
   "cell_type": "markdown",
   "metadata": {},
   "source": [
    "3. Сколько решений имеет линейная система:\n",
    "## $\\left(\n",
    "\\begin{array}{cccc}\n",
    "1 & 2 & 3\\\\\n",
    "4 & 5 & 6\\\\\n",
    "7 & 8 & 9\\end{array}\n",
    "\\right)\\cdot \\left(\n",
    "\\begin{array}{cccc}\n",
    "X\\end{array}\n",
    "\\right) = \\left(\\begin{array}{cccc}\n",
    "12\\\\2\\\\1\\end{array}\\right)\n",
    "$\n",
    "\n",
    "Если ноль - то измените вектор правой части так, чтобы система стала совместной, и решите ее."
   ]
  },
  {
   "cell_type": "code",
   "execution_count": 5,
   "metadata": {},
   "outputs": [
    {
     "name": "stdout",
     "output_type": "stream",
     "text": [
      "2\n",
      "3\n",
      "[ 2.83726777e+16 -5.67453553e+16  2.83726777e+16]\n"
     ]
    }
   ],
   "source": [
    "A = np.array([[1, 2, 3], [4, 5, 6], [7, 8, 9]])\n",
    "B = np.array([12, 2, 1])\n",
    "C = np.array([[1, 2, 3, 12], [4, 5, 6, 2], [7, 8, 9, 1]])\n",
    "print(np.linalg.matrix_rank(A, 0.0001))\n",
    "print(np.linalg.matrix_rank(C, 0.0001))\n",
    "print(np.linalg.solve(A, B))"
   ]
  },
  {
   "cell_type": "code",
   "execution_count": 6,
   "metadata": {},
   "outputs": [
    {
     "name": "stdout",
     "output_type": "stream",
     "text": [
      "2\n",
      "[ 0.53333333 -6.06666667  5.2       ]\n"
     ]
    }
   ],
   "source": [
    "B_new = np.array([4, 3, 2])\n",
    "C_new = np.array([[1, 2, 3, 4], [4, 5, 6, 3], [7, 8, 9, 2]])\n",
    "print(np.linalg.matrix_rank(C_new, 0.0001))\n",
    "print(np.linalg.solve(A, B_new))"
   ]
  },
  {
   "cell_type": "markdown",
   "metadata": {},
   "source": [
    "4. Вычислите LU-разложнеие матрицы:  \n",
    "$\n",
    "\\begin{pmatrix}\n",
    "1 & 2 & 3\\\\\n",
    "2 & 16 & 21\\\\\n",
    "4 & 28 & 73\n",
    "\\end{pmatrix}\n",
    "$  \n",
    "После этого придумайте вектор правых частей и решите полученную линейную систему трех уравнений с данной матрицей"
   ]
  },
  {
   "cell_type": "code",
   "execution_count": 7,
   "metadata": {
    "scrolled": false
   },
   "outputs": [
    {
     "name": "stdout",
     "output_type": "stream",
     "text": [
      "Определитель матрицы А равен 432.00000000000017\n",
      "[[0. 1. 0.]\n",
      " [0. 0. 1.]\n",
      " [1. 0. 0.]]\n",
      "[[ 1.    0.    0.  ]\n",
      " [ 0.25  1.    0.  ]\n",
      " [ 0.5  -0.4   1.  ]]\n",
      "[[  4.    28.    73.  ]\n",
      " [  0.    -5.   -15.25]\n",
      " [  0.     0.   -21.6 ]]\n"
     ]
    }
   ],
   "source": [
    "A = np.array([[1, 2, 3], [2, 16, 21], [4, 28, 73]])\n",
    "print(f'Определитель матрицы А равен {np.linalg.det(A)}')\n",
    "\n",
    "P, L, U = scipy.linalg.lu(A)\n",
    "\n",
    "print(P)\n",
    "print(L)\n",
    "print(U)"
   ]
  },
  {
   "cell_type": "code",
   "execution_count": 8,
   "metadata": {},
   "outputs": [
    {
     "name": "stdout",
     "output_type": "stream",
     "text": [
      "[[ 4. 28. 73.]\n",
      " [ 1.  2.  3.]\n",
      " [ 2. 16. 21.]]\n",
      "[[ 4. 28. 73.]\n",
      " [ 1.  2.  3.]\n",
      " [ 2. 16. 21.]]\n",
      "[[0. 0. 0.]\n",
      " [0. 0. 0.]\n",
      " [0. 0. 0.]]\n"
     ]
    }
   ],
   "source": [
    "print(np.dot(P.transpose(), A))\n",
    "print(np.dot(L, U))\n",
    "print(np.dot(P.transpose(), A) - np.dot(L, U))"
   ]
  },
  {
   "cell_type": "code",
   "execution_count": 9,
   "metadata": {},
   "outputs": [
    {
     "data": {
      "text/plain": [
       "array([ 5.95833333, -0.60416667,  0.08333333])"
      ]
     },
     "execution_count": 9,
     "metadata": {},
     "output_type": "execute_result"
    }
   ],
   "source": [
    "B = np.array([5, 4, 13])\n",
    "answer = np.linalg.solve(A, B)\n",
    "answer"
   ]
  },
  {
   "cell_type": "code",
   "execution_count": 10,
   "metadata": {},
   "outputs": [
    {
     "data": {
      "text/plain": [
       "0.0"
      ]
     },
     "execution_count": 10,
     "metadata": {},
     "output_type": "execute_result"
    }
   ],
   "source": [
    "np.linalg.norm(np.dot(A, answer) - B)"
   ]
  },
  {
   "cell_type": "markdown",
   "metadata": {},
   "source": [
    "5. Найдите нормальное псевдорешение неопределенной системы:\n",
    "## $x + 2y - z = 1$\n",
    "## $8x - 5y + 2z = 12$  \n",
    "Для этого определите функцию Q(x, y, z), равную норме решения, и найдите ее минимум."
   ]
  },
  {
   "cell_type": "code",
   "execution_count": 11,
   "metadata": {
    "scrolled": false
   },
   "outputs": [
    {
     "data": {
      "image/png": "[encoded data removed]",
      "text/plain": [
       "<Figure size 432x288 with 1 Axes>"
      ]
     },
     "metadata": {
      "needs_background": "light"
     },
     "output_type": "display_data"
    }
   ],
   "source": [
    "def Q(x, y, z):\n",
    "    return (x**2 + y**2 + z**2)\n",
    "\n",
    "#Вывел y и z из уравнений через х и подставил в функцию Q\n",
    "x = np.linspace(1.1, 1.6, 201)\n",
    "plt.plot(x, Q(x, 10 * x - 14, 21 * x -29))\n",
    "plt.xlabel('x')\n",
    "plt.ylabel('Q(x)')\n",
    "plt.grid(True)\n",
    "plt.ylim(1, 5)\n",
    "plt.show()"
   ]
  },
  {
   "cell_type": "markdown",
   "metadata": {},
   "source": [
    "При х равном приблизительно 1,375 функция Q(x) минимальна"
   ]
  },
  {
   "cell_type": "code",
   "execution_count": 12,
   "metadata": {},
   "outputs": [
    {
     "data": {
      "text/plain": [
       "(array([ 0.42250923,  0.22509225, -0.12730627]),\n",
       " array([], dtype=float64),\n",
       " 2,\n",
       " array([9.65316119, 2.41173777]))"
      ]
     },
     "execution_count": 12,
     "metadata": {},
     "output_type": "execute_result"
    }
   ],
   "source": [
    "A = np.array([[1, 2, -1], [8, -5, 2]])\n",
    "B = np.array([1, 2])\n",
    "np.linalg.lstsq(A, B, rcond=None)"
   ]
  },
  {
   "cell_type": "code",
   "execution_count": 40,
   "metadata": {},
   "outputs": [
    {
     "data": {
      "text/plain": [
       "array([ 1.        , 12.00000001])"
      ]
     },
     "execution_count": 40,
     "metadata": {},
     "output_type": "execute_result"
    }
   ],
   "source": [
    "np.dot(A, [ 1.38191882, -0.18081181,  0.0202952 ])"
   ]
  },
  {
   "cell_type": "markdown",
   "metadata": {},
   "source": [
    "6. Найдите одно из псевдорешений вырожденной системы:\n",
    "## $\\left(\n",
    "\\begin{array}{cccc}\n",
    "1 & 2 & 3\\\\\n",
    "4 & 5 & 6\\\\\n",
    "7 & 8 & 9\\end{array}\n",
    "\\right)\\cdot \\left(\n",
    "\\begin{array}{cccc}\n",
    "X\\end{array}\n",
    "\\right) = \\left(\\begin{array}{cccc}\n",
    "2\\\\5\\\\11\\end{array}\\right)\n",
    "$  \n",
    "Попробуйте также отыскать и нормальное пседорещение."
   ]
  },
  {
   "cell_type": "code",
   "execution_count": 41,
   "metadata": {},
   "outputs": [
    {
     "name": "stdout",
     "output_type": "stream",
     "text": [
      "2\n",
      "3\n"
     ]
    }
   ],
   "source": [
    "A = np.array([[1, 2, 3], [4, 5, 6], [7, 8, 9]])\n",
    "B = np.array([2, 5, 11])\n",
    "C = np.array([[1, 2, 3, 2], [4, 5, 6, 5], [7, 8, 9, 11]])\n",
    "print(np.linalg.matrix_rank(A, 0.0001))\n",
    "print(np.linalg.matrix_rank(C, 0.0001))"
   ]
  },
  {
   "cell_type": "code",
   "execution_count": 42,
   "metadata": {},
   "outputs": [
    {
     "name": "stdout",
     "output_type": "stream",
     "text": [
      "матрица Q:\n",
      "[[-0.12309149  0.90453403  0.40824829]\n",
      " [-0.49236596  0.30151134 -0.81649658]\n",
      " [-0.86164044 -0.30151134  0.40824829]]\n",
      " матрица R:\n",
      "[[-8.12403840e+00 -9.60113630e+00 -1.10782342e+01]\n",
      " [ 0.00000000e+00  9.04534034e-01  1.80906807e+00]\n",
      " [ 0.00000000e+00  0.00000000e+00 -1.77635684e-15]]\n",
      " [[1. 2. 3.]\n",
      " [4. 5. 6.]\n",
      " [7. 8. 9.]]\n"
     ]
    }
   ],
   "source": [
    "Q, R = np.linalg.qr(A)\n",
    "print(f'матрица Q:\\n{Q}\\n матрица R:\\n{R}\\n {np.dot(Q, R)}')\n"
   ]
  },
  {
   "cell_type": "code",
   "execution_count": 43,
   "metadata": {},
   "outputs": [
    {
     "data": {
      "text/plain": [
       "array([[-8.1240384 , -9.6011363 ],\n",
       "       [ 0.        ,  0.90453403]])"
      ]
     },
     "execution_count": 43,
     "metadata": {},
     "output_type": "execute_result"
    }
   ],
   "source": [
    "R1 = R[:2, :2]\n",
    "R1"
   ]
  },
  {
   "cell_type": "code",
   "execution_count": 44,
   "metadata": {},
   "outputs": [
    {
     "data": {
      "text/plain": [
       "array([-1.21860576e+01,  8.43769499e-15])"
      ]
     },
     "execution_count": 44,
     "metadata": {},
     "output_type": "execute_result"
    }
   ],
   "source": [
    "B1 = np.dot(np.transpose(Q), B)[: 2]\n",
    "B1"
   ]
  },
  {
   "cell_type": "code",
   "execution_count": 45,
   "metadata": {},
   "outputs": [
    {
     "name": "stdout",
     "output_type": "stream",
     "text": [
      "[1.50000000e+00 9.32822279e-15]\n",
      "[1.50000000e+00 9.32822279e-15 0.00000000e+00]\n"
     ]
    },
    {
     "data": {
      "text/plain": [
       "(1.4999999999999896, 1.2247448713915894)"
      ]
     },
     "execution_count": 45,
     "metadata": {},
     "output_type": "execute_result"
    }
   ],
   "source": [
    "X1 = np.linalg.solve(R1, B1)\n",
    "print(X1)\n",
    "X = np.append(X1, 0)\n",
    "print(X)\n",
    "np.linalg.norm(X), np.linalg.norm(np.dot(A, X) - B)"
   ]
  },
  {
   "cell_type": "code",
   "execution_count": 46,
   "metadata": {},
   "outputs": [
    {
     "data": {
      "text/plain": [
       "(array([ 1.25,  0.5 , -0.25]),\n",
       " array([], dtype=float64),\n",
       " 2,\n",
       " array([1.68481034e+01, 1.06836951e+00, 1.47280825e-16]))"
      ]
     },
     "execution_count": 46,
     "metadata": {},
     "output_type": "execute_result"
    }
   ],
   "source": [
    "np.linalg.lstsq(A, B, rcond=None)"
   ]
  },
  {
   "cell_type": "code",
   "execution_count": 47,
   "metadata": {},
   "outputs": [
    {
     "data": {
      "text/plain": [
       "(1.3693063937629153, 1.224744871391589)"
      ]
     },
     "execution_count": 47,
     "metadata": {},
     "output_type": "execute_result"
    }
   ],
   "source": [
    "X = [1.25, 0.5, -0.25]\n",
    "np.linalg.norm(X), np.linalg.norm(np.dot(A, X) - B)"
   ]
  }
 ],
 "metadata": {
  "kernelspec": {
   "display_name": "Python 3",
   "language": "python",
   "name": "python3"
  },
  "language_info": {
   "codemirror_mode": {
    "name": "ipython",
    "version": 3
   },
   "file_extension": ".py",
   "mimetype": "text/x-python",
   "name": "python",
   "nbconvert_exporter": "python",
   "pygments_lexer": "ipython3",
   "version": "3.7.1"
  }
 },
 "nbformat": 4,
 "nbformat_minor": 2
}
