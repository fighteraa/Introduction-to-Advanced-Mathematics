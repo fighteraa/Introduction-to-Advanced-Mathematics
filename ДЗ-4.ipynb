{
 "cells": [
  {
   "cell_type": "markdown",
   "metadata": {},
   "source": [
    " Напишите код, моделирующий выпадение поля в рулетке (с учетом поля зеро)"
   ]
  },
  {
   "cell_type": "code",
   "execution_count": 1,
   "metadata": {},
   "outputs": [],
   "source": [
    "%matplotlib inline\n",
    "import numpy as np\n",
    "import matplotlib.pyplot as plt\n",
    "import math"
   ]
  },
  {
   "cell_type": "code",
   "execution_count": 2,
   "metadata": {},
   "outputs": [
    {
     "name": "stdout",
     "output_type": "stream",
     "text": [
      "Введите количество бросков шарика: 4\n",
      "На какое число ставите? 5\n",
      "Вы поставили на 5, выпало:15\n",
      "На какое число ставите? 8\n",
      "Вы поставили на 8, выпало:28\n",
      "На какое число ставите? 9\n",
      "Вы поставили на 9, выпало:5\n",
      "На какое число ставите? 4\n",
      "Вы поставили на 4, выпало:15\n"
     ]
    }
   ],
   "source": [
    "n = int(input('Введите количество бросков шарика: '))\n",
    "for i in range(0, n):\n",
    "    number = int(input('На какое число ставите? '))\n",
    "    x = np.random.randint(0, 37)\n",
    "    print(f'Вы поставили на {number}, выпало:{x}')"
   ]
  },
  {
   "cell_type": "markdown",
   "metadata": {},
   "source": [
    "2. \n",
    "Напишите код, проверяющий любую из теорем сложения или умножения вероятности на примере подбрасывания монетки.\n",
    "\n",
    "Сгенерируйте десять выборок случайных чисел х0, …, х9.\n",
    "и постройте гистограмму распределения случайной суммы х0+х1+ …+ х9."
   ]
  },
  {
   "cell_type": "code",
   "execution_count": 30,
   "metadata": {},
   "outputs": [
    {
     "name": "stdout",
     "output_type": "stream",
     "text": [
      "Вероятность выпадения Орла расчетная: 0.5 Получилось: 0.62\n",
      "Вероятность выпадения Решки расчетная: 0.5 Получилось: 0.38\n",
      "Сумма двух вероятностей расчетная: 0.75 Получилось:: 0.76\n",
      "Произведение двух вероятностей расчетная: 0.25 Получилось:: 0.24\n"
     ]
    }
   ],
   "source": [
    "k, m, rez1, rez2 = 0, 0, 0 ,0\n",
    "n = 50\n",
    "for i in range(0, n):\n",
    "    x = np.random.uniform(0, 10)\n",
    "    y = np.random.uniform(0, 10)\n",
    "    if x < 5:\n",
    "        k += 1\n",
    "    if y < 5:\n",
    "        m += 1\n",
    "    #Теорема сложения вероятностей\n",
    "    if x < 5 or y < 5: rez1 += 1    \n",
    "    #Теорема умножения вероятностей\n",
    "    if x < 5 and y < 5: rez2 += 1\n",
    "print(f'Вероятность выпадения Орла расчетная: 0.5 Получилось: {k/n}') \n",
    "print(f'Вероятность выпадения Решки расчетная: 0.5 Получилось: {m/n}') \n",
    "print(f'Сумма двух вероятностей расчетная: 0.75 Получилось:: {rez1/n}')\n",
    "print(f'Произведение двух вероятностей расчетная: 0.25 Получилось:: {rez2/n}')"
   ]
  },
  {
   "cell_type": "code",
   "execution_count": 4,
   "metadata": {
    "scrolled": true
   },
   "outputs": [
    {
     "data": {
      "image/png": "[encoded data removed]",
      "text/plain": [
       "<Figure size 432x288 with 1 Axes>"
      ]
     },
     "metadata": {
      "needs_background": "light"
     },
     "output_type": "display_data"
    }
   ],
   "source": [
    "n = 50000\n",
    "x0 = np.random.rand(n)\n",
    "x1 = np.random.rand(n)\n",
    "x2 = np.random.rand(n)\n",
    "x3 = np.random.rand(n)\n",
    "x4 = np.random.rand(n)\n",
    "x5 = np.random.rand(n)\n",
    "x6 = np.random.rand(n)\n",
    "x7 = np.random.rand(n)\n",
    "x8 = np.random.rand(n)\n",
    "x9 = np.random.rand(n)\n",
    "\n",
    "x = x0 + x1 + x2 + x3 + x4 + x5 + x6 + x7 + x8 + x9\n",
    "n_bins = 20\n",
    "n, bins, patches = plt.hist(x, n_bins)"
   ]
  },
  {
   "cell_type": "markdown",
   "metadata": {},
   "source": [
    "3.\n",
    "\n",
    "1) Дополните код Монте-Карло последовательности независимых испытаний\n",
    "расчетом соответствующих вероятностей (через биномиальное распределение)\n",
    "и сравните результаты.\n",
    "\n",
    "2) Повторите расчеты, взяв другие значения n и k."
   ]
  },
  {
   "cell_type": "code",
   "execution_count": 7,
   "metadata": {},
   "outputs": [
    {
     "name": "stdout",
     "output_type": "stream",
     "text": [
      "3654 10000 0.3654\n",
      "n = 4, k = 2 Pn = 0.375\n",
      "n = 20, k = 7 Pn = 0.0739288330078125\n"
     ]
    }
   ],
   "source": [
    "k, n = 0, 10000\n",
    "a = np.random.randint(0, 2, n)\n",
    "b = np.random.randint(0, 2, n)\n",
    "c = np.random.randint(0, 2, n)\n",
    "d = np.random.randint(0, 2, n)\n",
    "x = a + b + c + d\n",
    "for i in range(0, n):\n",
    "    if x[i] == 2:\n",
    "        k = k + 1\n",
    "print(k, n, k/n)\n",
    "\n",
    "def Bernoulli(n, k):\n",
    "    p = 0.5\n",
    "    q = 1 - p\n",
    "    C = math.factorial(n) / (math.factorial(k) * math.factorial(n - k))\n",
    "    Pn = C * (p ** k) * (q ** (n - k))\n",
    "    print(f'n = {n}, k = {k} Pn = {Pn}')\n",
    "    \n",
    "Bernoulli(4, 2)\n",
    "Bernoulli(20, 7)"
   ]
  },
  {
   "cell_type": "markdown",
   "metadata": {
    "scrolled": true
   },
   "source": [
    "4. ​Повторите расчеты, взяв другие значения n и k."
   ]
  },
  {
   "cell_type": "code",
   "execution_count": 21,
   "metadata": {
    "scrolled": false
   },
   "outputs": [
    {
     "name": "stdout",
     "output_type": "stream",
     "text": [
      "555\n",
      "556\n",
      "552\n",
      "553\n",
      "565\n",
      "566\n",
      "562\n",
      "563\n",
      "525\n",
      "526\n",
      "522\n",
      "523\n",
      "535\n",
      "536\n",
      "532\n",
      "533\n",
      "655\n",
      "656\n",
      "652\n",
      "653\n",
      "665\n",
      "666\n",
      "662\n",
      "663\n",
      "625\n",
      "626\n",
      "622\n",
      "623\n",
      "635\n",
      "636\n",
      "632\n",
      "633\n",
      "255\n",
      "256\n",
      "252\n",
      "253\n",
      "265\n",
      "266\n",
      "262\n",
      "263\n",
      "225\n",
      "226\n",
      "222\n",
      "223\n",
      "235\n",
      "236\n",
      "232\n",
      "233\n",
      "355\n",
      "356\n",
      "352\n",
      "353\n",
      "365\n",
      "366\n",
      "362\n",
      "363\n",
      "325\n",
      "326\n",
      "322\n",
      "323\n",
      "335\n",
      "336\n",
      "332\n",
      "333\n"
     ]
    }
   ],
   "source": [
    "import itertools\n",
    "for p in itertools.product(\"5623\",repeat=3):\n",
    "    print(''.join(p))   "
   ]
  },
  {
   "cell_type": "code",
   "execution_count": 13,
   "metadata": {
    "scrolled": true
   },
   "outputs": [
    {
     "name": "stdout",
     "output_type": "stream",
     "text": [
      "638\n",
      "635\n",
      "636\n",
      "685\n",
      "686\n",
      "656\n",
      "385\n",
      "386\n",
      "356\n",
      "856\n"
     ]
    }
   ],
   "source": [
    "for p in itertools.combinations(\"63856\", 3):\n",
    "    print(''.join(p))"
   ]
  },
  {
   "cell_type": "code",
   "execution_count": 14,
   "metadata": {},
   "outputs": [
    {
     "name": "stdout",
     "output_type": "stream",
     "text": [
      "682\n",
      "685\n",
      "686\n",
      "688\n",
      "628\n",
      "625\n",
      "626\n",
      "628\n",
      "658\n",
      "652\n",
      "656\n",
      "658\n",
      "668\n",
      "662\n",
      "665\n",
      "668\n",
      "688\n",
      "682\n",
      "685\n",
      "686\n",
      "862\n",
      "865\n",
      "866\n",
      "868\n",
      "826\n",
      "825\n",
      "826\n",
      "828\n",
      "856\n",
      "852\n",
      "856\n",
      "858\n",
      "866\n",
      "862\n",
      "865\n",
      "868\n",
      "886\n",
      "882\n",
      "885\n",
      "886\n",
      "268\n",
      "265\n",
      "266\n",
      "268\n",
      "286\n",
      "285\n",
      "286\n",
      "288\n",
      "256\n",
      "258\n",
      "256\n",
      "258\n",
      "266\n",
      "268\n",
      "265\n",
      "268\n",
      "286\n",
      "288\n",
      "285\n",
      "286\n",
      "568\n",
      "562\n",
      "566\n",
      "568\n",
      "586\n",
      "582\n",
      "586\n",
      "588\n",
      "526\n",
      "528\n",
      "526\n",
      "528\n",
      "566\n",
      "568\n",
      "562\n",
      "568\n",
      "586\n",
      "588\n",
      "582\n",
      "586\n",
      "668\n",
      "662\n",
      "665\n",
      "668\n",
      "686\n",
      "682\n",
      "685\n",
      "688\n",
      "626\n",
      "628\n",
      "625\n",
      "628\n",
      "656\n",
      "658\n",
      "652\n",
      "658\n",
      "686\n",
      "688\n",
      "682\n",
      "685\n",
      "868\n",
      "862\n",
      "865\n",
      "866\n",
      "886\n",
      "882\n",
      "885\n",
      "886\n",
      "826\n",
      "828\n",
      "825\n",
      "826\n",
      "856\n",
      "858\n",
      "852\n",
      "856\n",
      "866\n",
      "868\n",
      "862\n",
      "865\n"
     ]
    }
   ],
   "source": [
    "for p in itertools.permutations(\"682568\", 3):\n",
    "    print(''.join(str(x) for x in p))"
   ]
  },
  {
   "cell_type": "markdown",
   "metadata": {},
   "source": [
    "5.​ Дополните код расчетом коэффициента корреляции ​x​ и ​y​ по формуле"
   ]
  },
  {
   "cell_type": "code",
   "execution_count": 33,
   "metadata": {},
   "outputs": [
    {
     "data": {
      "image/png": "[encoded data removed]",
      "text/plain": [
       "<Figure size 432x288 with 1 Axes>"
      ]
     },
     "metadata": {
      "needs_background": "light"
     },
     "output_type": "display_data"
    },
    {
     "name": "stdout",
     "output_type": "stream",
     "text": [
      "[[1.         0.92328292]\n",
      " [0.92328292 1.        ]]\n",
      "Коэффициент корреляции: 0.9232829169146458\n"
     ]
    }
   ],
   "source": [
    "n = 1000\n",
    "r = 0.7\n",
    "x = np.random.rand(n)\n",
    "y = r*x + (1 - r)*np.random.rand(n)\n",
    "plt.plot(x, y, 'o')\n",
    "plt.xlabel('x')\n",
    "plt.ylabel('y')\n",
    "plt.grid(True)\n",
    "plt.show()\n",
    "c = np.corrcoef(x, y) \n",
    "print(c)\n",
    "\n",
    "xm = x.mean()\n",
    "ym = y.mean()\n",
    "x1 = x - xm\n",
    "y1 = y - ym\n",
    "Rxy = np.sum(x1 * y1)/math.sqrt(np.sum(x1 ** 2) * np.sum(y1 ** 2))\n",
    "print(f'Коэффициент корреляции: {Rxy}')"
   ]
  },
  {
   "cell_type": "code",
   "execution_count": null,
   "metadata": {},
   "outputs": [],
   "source": []
  }
 ],
 "metadata": {
  "kernelspec": {
   "display_name": "Python 3",
   "language": "python",
   "name": "python3"
  },
  "language_info": {
   "codemirror_mode": {
    "name": "ipython",
    "version": 3
   },
   "file_extension": ".py",
   "mimetype": "text/x-python",
   "name": "python",
   "nbconvert_exporter": "python",
   "pygments_lexer": "ipython3",
   "version": "3.7.1"
  }
 },
 "nbformat": 4,
 "nbformat_minor": 2
}
